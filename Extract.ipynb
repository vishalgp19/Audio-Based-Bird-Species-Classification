{
  "nbformat": 4,
  "nbformat_minor": 2,
  "metadata": {
    "colab": {
      "name": "bird.ipynb",
      "provenance": [],
      "collapsed_sections": []
    },
    "kernelspec": {
      "name": "python3",
      "display_name": "Python 3.8.2 64-bit"
    },
    "language_info": {
      "name": "python",
      "version": "3.8.2"
    },
    "accelerator": "GPU",
    "interpreter": {
      "hash": "1baa965d5efe3ac65b79dfc60c0d706280b1da80fedb7760faf2759126c4f253"
    }
  },
  "cells": [
    {
      "cell_type": "markdown",
      "source": [
        "Import Libraries"
      ],
      "metadata": {}
    },
    {
      "cell_type": "code",
      "execution_count": null,
      "source": [
        "\r\n",
        "import matplotlib.pyplot as plt\r\n",
        "%matplotlib inline\r\n",
        "import librosa, librosa.display, IPython.display as ipd\r\n",
        "import numpy as np\r\n",
        "from statistics import mean, median\r\n",
        "import pandas as pd\r\n",
        "import os\r\n",
        "import random"
      ],
      "outputs": [],
      "metadata": {
        "id": "C2ZUw3YU0yjo"
      }
    },
    {
      "cell_type": "markdown",
      "source": [
        "Extract Fetures "
      ],
      "metadata": {}
    },
    {
      "cell_type": "code",
      "execution_count": null,
      "source": [
        "def extract_features(file_name):\r\n",
        "    try:\r\n",
        "        audio, sample_rate = librosa.load(file_name, res_type='kaiser_fast') \r\n",
        "        mfccs = librosa.feature.mfcc(y=audio, sr=sample_rate, n_mfcc=40)\r\n",
        "        mfccsscaled = np.mean(mfccs.T,axis=0)\r\n",
        "    except Exception as e:\r\n",
        "        print(\"Error encountered while parsing file: \", file)\r\n",
        "        return None \r\n",
        "    return mfccsscaled"
      ],
      "outputs": [],
      "metadata": {
        "id": "4fpru8K303rl"
      }
    },
    {
      "cell_type": "markdown",
      "source": [
        "Feature Array"
      ],
      "metadata": {}
    },
    {
      "cell_type": "code",
      "execution_count": null,
      "source": [
        "features = []"
      ],
      "outputs": [],
      "metadata": {
        "id": "5j81e08ZNr7a"
      }
    },
    {
      "cell_type": "markdown",
      "source": [
        "Loop to extract features   ( rename 'Laughing Kookaburra' to ur audio sample bird specie)"
      ],
      "metadata": {}
    },
    {
      "cell_type": "code",
      "execution_count": null,
      "source": [
        "test_path = ('/content/kooka')\r\n",
        "for file_name in os.listdir(test_path):\r\n",
        "  im_path =os.path.join(test_path, file_name)\r\n",
        "  #print(im_path)\r\n",
        "  try:\r\n",
        "    data = extract_features(im_path)\r\n",
        "    features.append([data, 'Laughing Kookaburra'])\r\n",
        "  except: continue"
      ],
      "outputs": [],
      "metadata": {
        "id": "llKFrMXO050A"
      }
    },
    {
      "cell_type": "markdown",
      "source": [
        "Create Dataframe of feature Array"
      ],
      "metadata": {}
    },
    {
      "cell_type": "code",
      "execution_count": null,
      "source": [
        "data = features\r\n",
        "random.shuffle(data)\r\n",
        "featuresdf = pd.DataFrame(data, columns=['feature','label'])\r\n",
        "print('Finished feature extraction from ', len(featuresdf), ' files')\r\n",
        "\r\n",
        "featuresdf.head(10)"
      ],
      "outputs": [
        {
          "output_type": "stream",
          "name": "stdout",
          "text": [
            "Finished feature extraction from  51  files\n"
          ]
        }
      ],
      "metadata": {
        "id": "ik8oyVu609_F",
        "colab": {
          "base_uri": "https://localhost:8080/"
        },
        "outputId": "781d1bfb-68d8-491e-df4f-e81c57a44e93"
      }
    },
    {
      "cell_type": "markdown",
      "source": [
        "Create Numpy array of features and labels"
      ],
      "metadata": {}
    },
    {
      "cell_type": "code",
      "execution_count": null,
      "source": [
        "x = np.array(featuresdf['feature'].tolist())\r\n",
        "y = np.array(featuresdf['label'].tolist())"
      ],
      "outputs": [
        {
          "output_type": "execute_result",
          "data": {
            "text/plain": [
              "(51,)"
            ]
          },
          "metadata": {
            "tags": []
          },
          "execution_count": 8
        }
      ],
      "metadata": {
        "colab": {
          "base_uri": "https://localhost:8080/"
        },
        "id": "_Y_5eYvUP-eo",
        "outputId": "1a5a79b7-a4b3-49f8-d776-6e726d577931"
      }
    },
    {
      "cell_type": "markdown",
      "source": [
        "Export .csv file "
      ],
      "metadata": {}
    },
    {
      "cell_type": "code",
      "execution_count": null,
      "source": [
        "df=pd.DataFrame(x)\r\n",
        "df['lable']=np.array(y.tolist())\r\n",
        "df.to_csv('kookaburra.csv')\r\n"
      ],
      "outputs": [],
      "metadata": {
        "id": "jo02l-Wy8HoG"
      }
    }
  ]
}
